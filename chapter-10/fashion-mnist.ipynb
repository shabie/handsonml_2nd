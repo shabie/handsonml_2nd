{
 "cells": [
  {
   "cell_type": "code",
   "execution_count": 36,
   "metadata": {},
   "outputs": [
    {
     "name": "stdout",
     "output_type": "stream",
     "text": [
      "2.0.0\n",
      "2.2.4-tf\n"
     ]
    }
   ],
   "source": [
    "import tensorflow as tf\n",
    "from tensorflow import keras\n",
    "import numpy as np\n",
    "import os\n",
    "import pandas as pd\n",
    "import matplotlib.pyplot as plt\n",
    "print(tf.__version__)\n",
    "print(keras.__version__)"
   ]
  },
  {
   "cell_type": "code",
   "execution_count": 2,
   "metadata": {},
   "outputs": [],
   "source": [
    "fashion_mnist = keras.datasets.fashion_mnist\n",
    "(X_train_full, y_train_full), (X_test, y_test) = fashion_mnist.load_data()"
   ]
  },
  {
   "cell_type": "code",
   "execution_count": 3,
   "metadata": {},
   "outputs": [
    {
     "data": {
      "text/plain": [
       "(60000, 28, 28)"
      ]
     },
     "execution_count": 3,
     "metadata": {},
     "output_type": "execute_result"
    }
   ],
   "source": [
    "X_train_full.shape"
   ]
  },
  {
   "cell_type": "code",
   "execution_count": 4,
   "metadata": {},
   "outputs": [
    {
     "data": {
      "text/plain": [
       "dtype('uint8')"
      ]
     },
     "execution_count": 4,
     "metadata": {},
     "output_type": "execute_result"
    }
   ],
   "source": [
    "X_train_full.dtype"
   ]
  },
  {
   "cell_type": "code",
   "execution_count": 5,
   "metadata": {},
   "outputs": [
    {
     "data": {
      "text/plain": [
       "256"
      ]
     },
     "execution_count": 5,
     "metadata": {},
     "output_type": "execute_result"
    }
   ],
   "source": [
    "2**8  # pixel values are integers from 0-255"
   ]
  },
  {
   "cell_type": "markdown",
   "metadata": {},
   "source": [
    "### Create a validation set\n",
    "Also, scale the inputs since we are using gradient descent. Why? Because similarly sized features make the convergence faster: https://www.quora.com/Why-is-it-important-to-scale-your-inputs-in-gradient-descent"
   ]
  },
  {
   "cell_type": "code",
   "execution_count": 6,
   "metadata": {},
   "outputs": [],
   "source": [
    "X_valid, X_train = X_train_full[:5000] / 255.0, X_train_full[5000:] / 255.0\n",
    "y_valid, y_train = y_train_full[:5000], y_train_full[5000:]"
   ]
  },
  {
   "cell_type": "code",
   "execution_count": 7,
   "metadata": {},
   "outputs": [
    {
     "data": {
      "text/plain": [
       "array([0, 1, 2, 3, 4, 5, 6, 7, 8, 9], dtype=uint8)"
      ]
     },
     "execution_count": 7,
     "metadata": {},
     "output_type": "execute_result"
    }
   ],
   "source": [
    "np.unique(y_train_full) "
   ]
  },
  {
   "cell_type": "code",
   "execution_count": 8,
   "metadata": {},
   "outputs": [],
   "source": [
    "# indexes correspond to the values in the labels\n",
    "class_names = ['T-shirt/top', 'Trouser', 'Pullover', 'Dress', 'Coat', 'Sandal', 'Shirt',\n",
    "               'Sneaker', 'Bag', 'Ankle boot']"
   ]
  },
  {
   "cell_type": "code",
   "execution_count": 9,
   "metadata": {},
   "outputs": [
    {
     "data": {
      "text/plain": [
       "'Pullover'"
      ]
     },
     "execution_count": 9,
     "metadata": {},
     "output_type": "execute_result"
    }
   ],
   "source": [
    "class_names[y_train[100]]"
   ]
  },
  {
   "cell_type": "code",
   "execution_count": 10,
   "metadata": {},
   "outputs": [
    {
     "data": {
      "text/plain": [
       "<Figure size 200x200 with 1 Axes>"
      ]
     },
     "metadata": {},
     "output_type": "display_data"
    }
   ],
   "source": [
    "from matplotlib import pyplot as plt\n",
    "plt.figure(figsize = (2, 2))\n",
    "plt.imshow(X_train[100], interpolation='nearest', cmap='viridis')\n",
    "plt.show()"
   ]
  },
  {
   "cell_type": "code",
   "execution_count": 11,
   "metadata": {},
   "outputs": [],
   "source": [
    "model = keras.models.Sequential()\n",
    "model.add(keras.layers.Flatten(input_shape=[28, 28]))\n",
    "model.add(keras.layers.Dense(300, activation='relu'))\n",
    "model.add(keras.layers.Dense(100, activation='relu'))\n",
    "model.add(keras.layers.Dense(10, activation='softmax'))\n",
    "\n",
    "# Alternately, pass it as a list:\n",
    "# model = keras.models.Sequential(\n",
    "#     [\n",
    "#         keras.layers.Flatten(input_shape=[28, 28]),\n",
    "#         keras.layers.Dense(300, activation=\"relu\"),\n",
    "#         keras.layers.Dense(100, activation=\"relu\"),\n",
    "#         keras.layers.Dense(10, activation=\"softmax\"),\n",
    "#     ]\n",
    "# )"
   ]
  },
  {
   "cell_type": "code",
   "execution_count": 12,
   "metadata": {},
   "outputs": [
    {
     "name": "stdout",
     "output_type": "stream",
     "text": [
      "Model: \"sequential\"\n",
      "_________________________________________________________________\n",
      "Layer (type)                 Output Shape              Param #   \n",
      "=================================================================\n",
      "flatten (Flatten)            (None, 784)               0         \n",
      "_________________________________________________________________\n",
      "dense (Dense)                (None, 300)               235500    \n",
      "_________________________________________________________________\n",
      "dense_1 (Dense)              (None, 100)               30100     \n",
      "_________________________________________________________________\n",
      "dense_2 (Dense)              (None, 10)                1010      \n",
      "=================================================================\n",
      "Total params: 266,610\n",
      "Trainable params: 266,610\n",
      "Non-trainable params: 0\n",
      "_________________________________________________________________\n"
     ]
    }
   ],
   "source": [
    "model.summary()"
   ]
  },
  {
   "cell_type": "code",
   "execution_count": 13,
   "metadata": {},
   "outputs": [
    {
     "data": {
      "text/plain": [
       "235500"
      ]
     },
     "execution_count": 13,
     "metadata": {},
     "output_type": "execute_result"
    }
   ],
   "source": [
    "# Param. calculation example:\n",
    "# number of inputs (28*28)\n",
    "# number of neurons in the first layer (300)\n",
    "# one bias for each neuron (300)\n",
    "28*28 * 300 + 300"
   ]
  },
  {
   "cell_type": "code",
   "execution_count": 46,
   "metadata": {},
   "outputs": [
    {
     "data": {
      "image/png": "[encoded data removed]",
      "text/plain": [
       "<IPython.core.display.Image object>"
      ]
     },
     "execution_count": 46,
     "metadata": {},
     "output_type": "execute_result"
    }
   ],
   "source": [
    "from tensorflow.keras.utils import plot_model\n",
    "\n",
    "plot_model(model, to_file='the-model.png')"
   ]
  },
  {
   "cell_type": "code",
   "execution_count": 47,
   "metadata": {},
   "outputs": [],
   "source": [
    "os.remove('the-model.png')"
   ]
  },
  {
   "cell_type": "code",
   "execution_count": 15,
   "metadata": {},
   "outputs": [
    {
     "data": {
      "text/plain": [
       "[<tensorflow.python.keras.layers.core.Flatten at 0x7f9feb3ac710>,\n",
       " <tensorflow.python.keras.layers.core.Dense at 0x7f9feb3acc18>,\n",
       " <tensorflow.python.keras.layers.core.Dense at 0x7fa012dbaa90>,\n",
       " <tensorflow.python.keras.layers.core.Dense at 0x7f9feb3c7fd0>]"
      ]
     },
     "execution_count": 15,
     "metadata": {},
     "output_type": "execute_result"
    }
   ],
   "source": [
    "model.layers"
   ]
  },
  {
   "cell_type": "code",
   "execution_count": 16,
   "metadata": {},
   "outputs": [],
   "source": [
    "hidden1 = model.layers[1]"
   ]
  },
  {
   "cell_type": "code",
   "execution_count": 17,
   "metadata": {},
   "outputs": [
    {
     "name": "stdout",
     "output_type": "stream",
     "text": [
      "dense\n"
     ]
    },
    {
     "data": {
      "text/plain": [
       "True"
      ]
     },
     "execution_count": 17,
     "metadata": {},
     "output_type": "execute_result"
    }
   ],
   "source": [
    "print(model.layers[1].name)\n",
    "model.get_layer('dense') is hidden1"
   ]
  },
  {
   "cell_type": "code",
   "execution_count": 18,
   "metadata": {},
   "outputs": [
    {
     "data": {
      "text/plain": [
       "array([[ 0.02792095,  0.06157978, -0.06850148, ...,  0.00057472,\n",
       "        -0.03152382,  0.04305192],\n",
       "       [-0.06516187, -0.06979315, -0.04590184, ...,  0.03122664,\n",
       "        -0.01769427, -0.01383691],\n",
       "       [ 0.0305446 ,  0.07062531,  0.06068827, ...,  0.01395673,\n",
       "         0.04571249, -0.04775488],\n",
       "       ...,\n",
       "       [ 0.01969572,  0.07392944,  0.06665996, ...,  0.04098661,\n",
       "        -0.06173836,  0.06942266],\n",
       "       [-0.03416004,  0.01758152,  0.0061315 , ..., -0.00700266,\n",
       "        -0.06623799,  0.03294065],\n",
       "       [ 0.07318422,  0.04806808,  0.0310317 , ...,  0.0152765 ,\n",
       "         0.02987796,  0.03474622]], dtype=float32)"
      ]
     },
     "execution_count": 18,
     "metadata": {},
     "output_type": "execute_result"
    }
   ],
   "source": [
    "weights, biases = hidden1.get_weights()\n",
    "weights"
   ]
  },
  {
   "cell_type": "code",
   "execution_count": 19,
   "metadata": {},
   "outputs": [
    {
     "data": {
      "text/plain": [
       "((784, 300), (300,))"
      ]
     },
     "execution_count": 19,
     "metadata": {},
     "output_type": "execute_result"
    }
   ],
   "source": [
    "weights.shape, biases.shape"
   ]
  },
  {
   "cell_type": "code",
   "execution_count": 20,
   "metadata": {},
   "outputs": [],
   "source": [
    "model.compile(loss='sparse_categorical_crossentropy',\n",
    "              optimizer='sgd', \n",
    "              metrics=['accuracy'],\n",
    "             )"
   ]
  },
  {
   "cell_type": "code",
   "execution_count": 21,
   "metadata": {},
   "outputs": [
    {
     "name": "stdout",
     "output_type": "stream",
     "text": [
      "Train on 55000 samples, validate on 5000 samples\n",
      "Epoch 1/30\n",
      "55000/55000 [==============================] - 4s 73us/sample - loss: 0.7172 - accuracy: 0.7655 - val_loss: 0.5022 - val_accuracy: 0.8324\n",
      "Epoch 2/30\n",
      "55000/55000 [==============================] - 3s 56us/sample - loss: 0.4890 - accuracy: 0.8296 - val_loss: 0.4474 - val_accuracy: 0.8504\n",
      "Epoch 3/30\n",
      "55000/55000 [==============================] - 3s 57us/sample - loss: 0.4445 - accuracy: 0.8439 - val_loss: 0.4197 - val_accuracy: 0.8526\n",
      "Epoch 4/30\n",
      "55000/55000 [==============================] - 3s 54us/sample - loss: 0.4164 - accuracy: 0.8542 - val_loss: 0.4196 - val_accuracy: 0.8540\n",
      "Epoch 5/30\n",
      "55000/55000 [==============================] - 3s 56us/sample - loss: 0.3960 - accuracy: 0.8602 - val_loss: 0.3951 - val_accuracy: 0.8610\n",
      "Epoch 6/30\n",
      "55000/55000 [==============================] - 3s 56us/sample - loss: 0.3800 - accuracy: 0.8653 - val_loss: 0.3844 - val_accuracy: 0.8702\n",
      "Epoch 7/30\n",
      "55000/55000 [==============================] - 3s 57us/sample - loss: 0.3661 - accuracy: 0.8710 - val_loss: 0.3625 - val_accuracy: 0.8740\n",
      "Epoch 8/30\n",
      "55000/55000 [==============================] - 3s 57us/sample - loss: 0.3537 - accuracy: 0.8745 - val_loss: 0.3543 - val_accuracy: 0.8748\n",
      "Epoch 9/30\n",
      "55000/55000 [==============================] - 3s 57us/sample - loss: 0.3435 - accuracy: 0.8772 - val_loss: 0.3539 - val_accuracy: 0.8738\n",
      "Epoch 10/30\n",
      "55000/55000 [==============================] - 3s 59us/sample - loss: 0.3340 - accuracy: 0.8803 - val_loss: 0.3586 - val_accuracy: 0.8742\n",
      "Epoch 11/30\n",
      "55000/55000 [==============================] - 3s 57us/sample - loss: 0.3252 - accuracy: 0.8846 - val_loss: 0.3548 - val_accuracy: 0.8734\n",
      "Epoch 12/30\n",
      "55000/55000 [==============================] - 3s 57us/sample - loss: 0.3167 - accuracy: 0.8870 - val_loss: 0.3340 - val_accuracy: 0.8806\n",
      "Epoch 13/30\n",
      "55000/55000 [==============================] - 3s 57us/sample - loss: 0.3093 - accuracy: 0.8895 - val_loss: 0.3455 - val_accuracy: 0.8726\n",
      "Epoch 14/30\n",
      "55000/55000 [==============================] - 3s 57us/sample - loss: 0.3020 - accuracy: 0.8920 - val_loss: 0.3346 - val_accuracy: 0.8798\n",
      "Epoch 15/30\n",
      "55000/55000 [==============================] - 3s 59us/sample - loss: 0.2963 - accuracy: 0.8931 - val_loss: 0.3318 - val_accuracy: 0.8828\n",
      "Epoch 16/30\n",
      "55000/55000 [==============================] - 3s 62us/sample - loss: 0.2901 - accuracy: 0.8963 - val_loss: 0.3123 - val_accuracy: 0.8904\n",
      "Epoch 17/30\n",
      "55000/55000 [==============================] - 3s 58us/sample - loss: 0.2833 - accuracy: 0.8969 - val_loss: 0.3060 - val_accuracy: 0.8916\n",
      "Epoch 18/30\n",
      "55000/55000 [==============================] - 3s 59us/sample - loss: 0.2785 - accuracy: 0.8991 - val_loss: 0.3205 - val_accuracy: 0.8842\n",
      "Epoch 19/30\n",
      "55000/55000 [==============================] - 3s 59us/sample - loss: 0.2735 - accuracy: 0.9004 - val_loss: 0.3139 - val_accuracy: 0.8878\n",
      "Epoch 20/30\n",
      "55000/55000 [==============================] - 3s 59us/sample - loss: 0.2682 - accuracy: 0.9029 - val_loss: 0.3094 - val_accuracy: 0.8880\n",
      "Epoch 21/30\n",
      "55000/55000 [==============================] - 3s 60us/sample - loss: 0.2628 - accuracy: 0.9046 - val_loss: 0.2987 - val_accuracy: 0.8952\n",
      "Epoch 22/30\n",
      "55000/55000 [==============================] - 3s 60us/sample - loss: 0.2575 - accuracy: 0.9062 - val_loss: 0.3360 - val_accuracy: 0.8784\n",
      "Epoch 23/30\n",
      "55000/55000 [==============================] - 3s 60us/sample - loss: 0.2537 - accuracy: 0.9085 - val_loss: 0.3015 - val_accuracy: 0.8924\n",
      "Epoch 24/30\n",
      "55000/55000 [==============================] - 3s 61us/sample - loss: 0.2495 - accuracy: 0.9088 - val_loss: 0.3011 - val_accuracy: 0.8900\n",
      "Epoch 25/30\n",
      "55000/55000 [==============================] - 3s 60us/sample - loss: 0.2451 - accuracy: 0.9116 - val_loss: 0.3105 - val_accuracy: 0.8874\n",
      "Epoch 26/30\n",
      "55000/55000 [==============================] - 3s 59us/sample - loss: 0.2405 - accuracy: 0.9134 - val_loss: 0.2935 - val_accuracy: 0.8968\n",
      "Epoch 27/30\n",
      "55000/55000 [==============================] - 3s 60us/sample - loss: 0.2372 - accuracy: 0.9132 - val_loss: 0.3154 - val_accuracy: 0.8872\n",
      "Epoch 28/30\n",
      "55000/55000 [==============================] - 3s 59us/sample - loss: 0.2327 - accuracy: 0.9161 - val_loss: 0.3086 - val_accuracy: 0.8884\n",
      "Epoch 29/30\n",
      "55000/55000 [==============================] - 3s 63us/sample - loss: 0.2285 - accuracy: 0.9167 - val_loss: 0.3033 - val_accuracy: 0.8920\n",
      "Epoch 30/30\n",
      "55000/55000 [==============================] - 3s 60us/sample - loss: 0.2262 - accuracy: 0.9180 - val_loss: 0.2898 - val_accuracy: 0.8980\n"
     ]
    }
   ],
   "source": [
    "history = model.fit(X_train, y_train, epochs=30, validation_data=(X_valid, y_valid))"
   ]
  },
  {
   "cell_type": "code",
   "execution_count": 22,
   "metadata": {},
   "outputs": [
    {
     "data": {
      "image/png": "[encoded data removed]",
      "text/plain": [
       "<Figure size 576x360 with 1 Axes>"
      ]
     },
     "metadata": {
      "needs_background": "light"
     },
     "output_type": "display_data"
    }
   ],
   "source": [
    "pd.DataFrame(history.history).plot(figsize=(8, 5))\n",
    "plt.grid(True)\n",
    "plt.gca().set_ylim(0, 1)  # set the vertical range to [0 - 1]\n",
    "plt.show()"
   ]
  },
  {
   "cell_type": "code",
   "execution_count": 28,
   "metadata": {},
   "outputs": [
    {
     "name": "stdout",
     "output_type": "stream",
     "text": [
      "10000/1 - 0s - loss: 52.0659 - accuracy: 0.8464\n"
     ]
    },
    {
     "data": {
      "text/plain": [
       "[62.3174989692688, 0.8464]"
      ]
     },
     "execution_count": 28,
     "metadata": {},
     "output_type": "execute_result"
    }
   ],
   "source": [
    "model.evaluate(X_test, y_test, verbose=2)"
   ]
  },
  {
   "cell_type": "code",
   "execution_count": null,
   "metadata": {},
   "outputs": [],
   "source": []
  }
 ],
 "metadata": {
  "kernelspec": {
   "display_name": "Python 3",
   "language": "python",
   "name": "python3"
  },
  "language_info": {
   "codemirror_mode": {
    "name": "ipython",
    "version": 3
   },
   "file_extension": ".py",
   "mimetype": "text/x-python",
   "name": "python",
   "nbconvert_exporter": "python",
   "pygments_lexer": "ipython3",
   "version": "3.6.8"
  }
 },
 "nbformat": 4,
 "nbformat_minor": 4
}
